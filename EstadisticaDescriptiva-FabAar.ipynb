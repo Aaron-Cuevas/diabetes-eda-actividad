{
 "cells": [
  {
   "cell_type": "markdown",
   "id": "c9a21324",
   "metadata": {},
   "source": [
    "# Estadística Descriptiva — Pima Indians Diabetes\n",
    "**Autor:** Fabiola Ochoa y Aaron Cuevas · **Fecha:** 2025-10-31"
   ]
  },
  {
   "cell_type": "markdown",
   "id": "e61eed03",
   "metadata": {},
   "source": [
    "## Objetivo de la actividad\n",
    "Replicar los pasos de salón sobre el dataset `diabetes.csv` (**Pima Indians Diabetes**):\n",
    "1. **Cargar** los datos.\n",
    "2. Verificar **cantidad de datos** (filas/columnas) y **nombres de variables**.\n",
    "3. Revisar **tipos de dato** e **identificar valores nulos**.\n",
    "4. **Seleccionar** tres variables por integrante; aquí se analizan **Pregnancies**, **DiabetesPedigreeFunction** y **Outcome** (común para todos).\n",
    "5. Para cada variable seleccionada: **tipo/subtipo**, **rangos (mín–máx)**, **media**, **mediana**, **desviación estándar (DE)** y **comentarios**.\n",
    "6. Realizar **3 consultas** sobre los datos con las variables asignadas."
   ]
  },
  {
   "cell_type": "markdown",
   "id": "80863316",
   "metadata": {},
   "source": [
    "## 1. Carga de datos"
   ]
  },
  {
   "cell_type": "code",
   "execution_count": null,
   "id": "1dd5fecf",
   "metadata": {},
   "outputs": [],
   "source": [
    "import pandas as pd, numpy as np\n",
    "from pathlib import Path\n",
    "\n",
    "candidates = [Path(\"data/diabetes.csv\"), Path(\"diabetes.csv\")]\n",
    "for p in candidates:\n",
    "    if p.exists():\n",
    "        CSV_PATH = p\n",
    "        break\n",
    "else:\n",
    "    raise FileNotFoundError(\"No se encontró diabetes.csv.\")\n",
    "\n",
    "df = pd.read_csv(CSV_PATH)\n",
    "\n",
    "# Ceros imposibles como NA en columnas clínicas estándar\n",
    "cols_zero_na = [c for c in [\"Glucose\",\"BloodPressure\",\"SkinThickness\",\"Insulin\",\"BMI\"] if c in df.columns]\n",
    "df[cols_zero_na] = df[cols_zero_na].replace(0, np.nan)\n",
    "\n",
    "df.head()"
   ]
  },
  {
   "cell_type": "markdown",
   "id": "f434aec5",
   "metadata": {},
   "source": [
    "## 2. Cantidad de datos y variables"
   ]
  },
  {
   "cell_type": "code",
   "execution_count": null,
   "id": "8469b524",
   "metadata": {},
   "outputs": [],
   "source": [
    "df.shape, df.columns.tolist()"
   ]
  },
  {
   "cell_type": "markdown",
   "id": "bb25dd35",
   "metadata": {},
   "source": [
    "## 3. Información general y valores nulos"
   ]
  },
  {
   "cell_type": "code",
   "execution_count": null,
   "id": "68bf7391",
   "metadata": {},
   "outputs": [],
   "source": [
    "df.info()\n",
    "print(\"\\nValores nulos por columna:\")\n",
    "df.isna().sum()"
   ]
  },
  {
   "cell_type": "markdown",
   "id": "247e19ae",
   "metadata": {},
   "source": [
    "## 4. Variables seleccionadas y tipología\n",
    "- **Pregnancies**: *cuantitativa discreta* (conteo de embarazos; 0 es posible).\n",
    "- **DiabetesPedigreeFunction (DPF)**: *cuantitativa continua* (índice de antecedentes familiares).\n",
    "- **Outcome**: *categórica binaria* (0 = no diabetes, 1 = diabetes). Su media equivale a la prevalencia muestral."
   ]
  },
  {
   "cell_type": "markdown",
   "id": "0512d0e4",
   "metadata": {},
   "source": [
    "## 5. Estadísticos descriptivos"
   ]
  },
  {
   "cell_type": "code",
   "execution_count": null,
   "id": "dbd92fc4",
   "metadata": {},
   "outputs": [],
   "source": [
    "sel = [\"Pregnancies\",\"DiabetesPedigreeFunction\",\"Outcome\"]\n",
    "stats = df.agg({\n",
    "    \"Pregnancies\": [\"min\",\"max\",\"mean\",\"median\",\"std\"],\n",
    "    \"DiabetesPedigreeFunction\": [\"min\",\"max\",\"mean\",\"median\",\"std\"],\n",
    "    \"Outcome\": [\"min\",\"max\",\"mean\"]\n",
    "})\n",
    "stats"
   ]
  },
  {
   "cell_type": "code",
   "execution_count": null,
   "id": "dab23d18",
   "metadata": {},
   "outputs": [],
   "source": [
    "def iqr(s): \n",
    "    return s.quantile(0.75) - s.quantile(0.25)\n",
    "pd.DataFrame({\n",
    "    \"Pregnancies_IQR\":[iqr(df[\"Pregnancies\"])],\n",
    "    \"DPF_IQR\":[iqr(df[\"DiabetesPedigreeFunction\"])]\n",
    "})"
   ]
  },
  {
   "cell_type": "markdown",
   "id": "4fed7bc8",
   "metadata": {},
   "source": [
    "## 6. Visualización"
   ]
  },
  {
   "cell_type": "code",
   "execution_count": null,
   "id": "9a53019c",
   "metadata": {},
   "outputs": [],
   "source": [
    "import matplotlib.pyplot as plt\n",
    "df[\"Pregnancies\"].dropna().plot(kind=\"hist\", bins=30, alpha=0.8, title=\"Histograma de Pregnancies\")\n",
    "plt.xlabel(\"Pregnancies\"); plt.ylabel(\"Frecuencia\"); plt.show()\n",
    "\n",
    "df[\"DiabetesPedigreeFunction\"].dropna().plot(kind=\"hist\", bins=30, alpha=0.8, title=\"Histograma de DPF\")\n",
    "plt.xlabel(\"DiabetesPedigreeFunction\"); plt.ylabel(\"Frecuencia\"); plt.show()\n",
    "\n",
    "df[\"Outcome\"].value_counts().sort_index().plot(kind=\"bar\", title=\"Distribución de Outcome (0=no, 1=sí)\")\n",
    "plt.xlabel(\"Outcome\"); plt.ylabel(\"Conteo\"); plt.show()"
   ]
  },
  {
   "cell_type": "markdown",
   "id": "28b68648",
   "metadata": {},
   "source": [
    "## 7. Consultas"
   ]
  },
  {
   "cell_type": "code",
   "execution_count": null,
   "id": "0a6d7e6e",
   "metadata": {},
   "outputs": [],
   "source": [
    "# Q1: Pacientes con ≥5 embarazos y Outcome=1\n",
    "q1 = (df.query(\"Pregnancies >= 5 and Outcome == 1\")\n",
    "        [[\"Pregnancies\",\"DiabetesPedigreeFunction\",\"Outcome\"]]\n",
    "        .sort_values([\"Pregnancies\",\"DiabetesPedigreeFunction\"], ascending=False))\n",
    "q1.head(10)"
   ]
  },
  {
   "cell_type": "code",
   "execution_count": null,
   "id": "b31d0078",
   "metadata": {},
   "outputs": [],
   "source": [
    "# Q2: Pr(Outcome=1) por categorías de Pregnancies\n",
    "preg_bins = [0,1,3,5,10,100]\n",
    "preg_labels = [\"0\",\"1–2\",\"3–4\",\"5–9\",\"10+\"]\n",
    "q2 = (df.assign(preg_cat=pd.cut(df[\"Pregnancies\"], bins=preg_bins, labels=preg_labels, include_lowest=True))\n",
    "        .groupby(\"preg_cat\")[\"Outcome\"].mean()\n",
    "        .rename(\"Pr(Outcome=1)\")).to_frame()\n",
    "q2"
   ]
  },
  {
   "cell_type": "code",
   "execution_count": null,
   "id": "8b873b64",
   "metadata": {},
   "outputs": [],
   "source": [
    "# Q3: Pr(Outcome=1) por cuartiles de DPF\n",
    "q3 = (df.assign(dpf_q=pd.qcut(df[\"DiabetesPedigreeFunction\"], q=4, duplicates=\"drop\"))\n",
    "        .groupby(\"dpf_q\")[\"Outcome\"].mean()\n",
    "        .rename(\"Pr(Outcome=1)\")).to_frame()\n",
    "q3"
   ]
  },
  {
   "cell_type": "markdown",
   "id": "901f54a2",
   "metadata": {},
   "source": [
    "## 8. Conclusiones\n",
    "**a) Tipos y limpieza.** `Pregnancies` es **discreta** (conteo), `DiabetesPedigreeFunction` es **continua** (índice) y `Outcome` es **binaria** (0/1). Los ceros imposibles se trataron como faltantes en variables clínicas no analizadas aquí (Glucose, BloodPressure, SkinThickness, Insulin, BMI), evitando sesgos en estadísticas agregadas.\n",
    "\n",
    "**b) Rango y tendencia central.**\n",
    "- `Pregnancies`: **mín 0**, **máx 17**, **media 3.85**, **mediana 3.00**, **DE 3.37**, **IQR 5.00**.\n",
    "  La **media ≥ mediana** sugiere **asimetría a la derecha**: abundan valores bajos con una cola de conteos altos.\n",
    "- `DiabetesPedigreeFunction`: **mín 0.078**, **máx 2.420**, **media 0.472**, **mediana 0.372**, **DE 0.331**, **IQR 0.382**.\n",
    "  También asimétrica a la derecha: muchos valores pequeños y algunos grandes.\n",
    "- `Outcome`: **prevalencia muestral ≈ 34.9%** (la media de `Outcome`).\n",
    "\n",
    "**c) Asociación empírica con Outcome.**\n",
    "- Por **categorías de embarazos** (`Pr(Outcome=1)`):\n",
    "- 0: 0.272\n",
    "- 1–2: 0.258\n",
    "- 3–4: 0.352\n",
    "- 5–9: 0.492\n",
    "- 10+: 0.588\n",
    "  Se observa un **patrón creciente**: a mayor número de embarazos, mayor proporción de casos positivos.\n",
    "- Por **cuartiles de DPF** (`Pr(Outcome=1)`):\n",
    "- (0.077, 0.244]: 0.255\n",
    "- (0.244, 0.372]: 0.333\n",
    "- (0.372, 0.626]: 0.323\n",
    "- (0.626, 2.42]: 0.484\n",
    "  La proporción **aumenta de cuartil en cuartil**, coherente con que valores altos del índice familiar se asocian a mayor riesgo.\n",
    "\n",
    "**d) Lectura integrada y límites.**\n",
    "- Ambas variables (`Pregnancies`, `DPF`) muestran relación **monótona creciente** con `Outcome`, pero de **magnitud moderada** (fenómeno multifactorial).\n",
    "- Posibles **confusores** (no modelados aquí): edad, IMC y glucosa; podrían explicar parte de los incrementos observados.\n",
    "- La prevalencia reportada es **muestral**; no la deberíamos interpretar como tasa poblacional sin muestreo representativo.\n",
    "\n",
   
   ]
  }
 ],
 "metadata": {
  "kernelspec": {
   "display_name": "Python 3",
   "language": "python",
   "name": "python3"
  },
  "language_info": {
   "name": "python",
   "pygments_lexer": "ipython3"
  }
 },
 "nbformat": 4,
 "nbformat_minor": 5
}
