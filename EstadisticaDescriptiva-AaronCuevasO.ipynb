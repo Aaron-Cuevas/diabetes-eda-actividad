{
 "cells": [
  {
   "cell_type": "markdown",
   "id": "15aa83d8",
   "metadata": {},
   "source": [
    "# Estadística Descriptiva — Pima Indians Diabetes\n",
    "**Autor:** Aaron Cuevas y Fabiola Ochoa · **Fecha:** 2025-10-30\n",
    "\n",
    "Variables a analizar: **Pregnancies**, **DiabetesPedigreeFunction** e **Outcome** (incluida como referencia)."
   ]
  },
  {
   "cell_type": "markdown",
   "id": "d4029d09",
   "metadata": {},
   "source": [
    "## 1. Lectura de datos con pandas"
   ]
  },
  {
   "cell_type": "code",
   "execution_count": null,
   "id": "24e3a574",
   "metadata": {},
   "outputs": [],
   "source": [
    "import pandas as pd, numpy as np\n",
    "import matplotlib.pyplot as plt\n",
    "from pathlib import Path\n",
    "\n",
    "pd.set_option(\"display.max_columns\", None)\n",
    "pd.set_option(\"display.width\", 120)\n",
    "\n",
    "# Detecta CSV en ruta típica del repo o en el cwd como respaldo\n",
    "candidates = [Path(\"data/diabetes.csv\"), Path(\"diabetes.csv\")]\n",
    "for p in candidates:\n",
    "    if p.exists():\n",
    "        CSV_PATH = p\n",
    "        break\n",
    "else:\n",
    "    raise FileNotFoundError(\"No se encontró 'data/diabetes.csv' ni './diabetes.csv'.\")\n",
    "\n",
    "df = pd.read_csv(CSV_PATH)\n",
    "print(\"CSV:\", CSV_PATH.resolve())\n",
    "print(\"Dimensiones (filas, columnas):\", df.shape)\n",
    "df.head()"
   ]
  },
  {
   "cell_type": "markdown",
   "id": "da583244",
   "metadata": {},
   "source": [
    "## 2. Inspección general"
   ]
  },
  {
   "cell_type": "code",
   "execution_count": null,
   "id": "769432c8",
   "metadata": {},
   "outputs": [],
   "source": [
    "print(\"Columnas:\", df.columns.tolist())\n",
    "print(\"\\nTipos de dato y memoria:\")\n",
    "df.info()\n",
    "print(\"\\nValores nulos por columna:\")\n",
    "df.isna().sum()"
   ]
  },
  {
   "cell_type": "markdown",
   "id": "5cfdb338",
   "metadata": {},
   "source": [
    "### Normalización de faltantes conocidos\n",
    "En este dataset, `0` suele significar faltante en: `Glucose`, `BloodPressure`, `SkinThickness`, `Insulin` y `BMI`.\n",
    "**No** aplicamos esta regla a `Pregnancies` (0 puede ser válido) ni a `DiabetesPedigreeFunction`."
   ]
  },
  {
   "cell_type": "code",
   "execution_count": null,
   "id": "d813db73",
   "metadata": {},
   "outputs": [],
   "source": [
    "cols_zero_na = [\"Glucose\",\"BloodPressure\",\"SkinThickness\",\"Insulin\",\"BMI\"]\n",
    "df[cols_zero_na] = df[cols_zero_na].replace(0, np.nan)\n",
    "df.isna().sum()"
   ]
  },
  {
   "cell_type": "markdown",
   "id": "12e40ca9",
   "metadata": {},
   "source": [
    "## 3. Estadísticos descriptivos (variables seleccionadas)"
   ]
  },
  {
   "cell_type": "markdown",
   "id": "79a2d3bc",
   "metadata": {},
   "source": [
    "Variables seleccionadas:\n",
    "- **Pregnancies**: cuantitativa discreta (conteo).\n",
    "- **DiabetesPedigreeFunction**: cuantitativa continua (índice).\n",
    "- **Outcome**: categórica binaria (0 = no diabetes, 1 = diabetes)."
   ]
  },
  {
   "cell_type": "code",
   "execution_count": null,
   "id": "9173730c",
   "metadata": {},
   "outputs": [],
   "source": [
    "vars_sel = [\"Pregnancies\",\"DiabetesPedigreeFunction\",\"Outcome\"]\n",
    "\n",
    "# Estadísticos clave\n",
    "stats = df.agg({\n",
    "    \"Pregnancies\": [\"min\",\"max\",\"mean\",\"median\",\"std\"],\n",
    "    \"DiabetesPedigreeFunction\": [\"min\",\"max\",\"mean\",\"median\",\"std\"],\n",
    "    \"Outcome\": [\"min\",\"max\",\"mean\"]\n",
    "})\n",
    "stats"
   ]
  },
  {
   "cell_type": "code",
   "execution_count": null,
   "id": "4af7e09b",
   "metadata": {},
   "outputs": [],
   "source": [
    "# IQR para dispersión robusta en las continuas/discretas\n",
    "def iqr(s): \n",
    "    return s.quantile(0.75) - s.quantile(0.25)\n",
    "\n",
    "pd.DataFrame({\n",
    "    \"Pregnancies_IQR\": [iqr(df[\"Pregnancies\"])],\n",
    "    \"DiabetesPedigreeFunction_IQR\": [iqr(df[\"DiabetesPedigreeFunction\"])]\n",
    "})"
   ]
  },
  {
   "cell_type": "code",
   "execution_count": null,
   "id": "62f848d7",
   "metadata": {},
   "outputs": [],
   "source": [
    "# Correlación simple (Outcome como numérico 0/1)\n",
    "df[vars_sel].corr(numeric_only=True)"
   ]
  },
  {
   "cell_type": "markdown",
   "id": "a61149c2",
   "metadata": {},
   "source": [
    "### 4. Visualización rápida"
   ]
  },
  {
   "cell_type": "code",
   "execution_count": null,
   "id": "9bc9bb32",
   "metadata": {},
   "outputs": [],
   "source": [
    "for c in [\"Pregnancies\",\"DiabetesPedigreeFunction\"]:\n",
    "    ax = df[c].dropna().plot(kind=\"hist\", bins=30, alpha=0.75)\n",
    "    ax.set_title(f\"Histograma de {c}\")\n",
    "    ax.set_xlabel(c); ax.set_ylabel(\"Frecuencia\")\n",
    "    plt.show()\n",
    "\n",
    "# Distribución binaria de Outcome\n",
    "ax = df[\"Outcome\"].value_counts().sort_index().plot(kind=\"bar\")\n",
    "ax.set_title(\"Distribución de Outcome (0=no, 1=sí)\")\n",
    "ax.set_xlabel(\"Outcome\"); ax.set_ylabel(\"Conteo\")\n",
    "plt.show()"
   ]
  },
  {
   "cell_type": "markdown",
   "id": "9fb4097f",
   "metadata": {},
   "source": [
    "## 5. Tres consultas sobre los datos"
   ]
  },
  {
   "cell_type": "code",
   "execution_count": null,
   "id": "eca8c7f3",
   "metadata": {},
   "outputs": [],
   "source": [
    "# Q1: Pacientes con ≥5 embarazos y Outcome=1 (diabetes)\n",
    "q1 = (df.query(\"Pregnancies >= 5 and Outcome == 1\")\n",
    "        [[\"Pregnancies\",\"DiabetesPedigreeFunction\",\"Outcome\"]]\n",
    "        .sort_values([\"Pregnancies\",\"DiabetesPedigreeFunction\"], ascending=False))\n",
    "q1.head(10)"
   ]
  },
  {
   "cell_type": "code",
   "execution_count": null,
   "id": "bb63a742",
   "metadata": {},
   "outputs": [],
   "source": [
    "# Q2: Pr(Outcome=1) por categorías de número de embarazos\n",
    "preg_bins = [0,1,3,5,10,100]  # 0, 1-2, 3-4, 5-9, 10+\n",
    "preg_labels = [\"0\",\"1-2\",\"3-4\",\"5-9\",\"10+\"]\n",
    "q2 = (df.assign(preg_cat=pd.cut(df[\"Pregnancies\"], bins=preg_bins, labels=preg_labels, include_lowest=True))\n",
    "        .groupby(\"preg_cat\")[\"Outcome\"].mean()\n",
    "        .rename(\"Pr(Outcome=1)\")).to_frame()\n",
    "q2"
   ]
  },
  {
   "cell_type": "code",
   "execution_count": null,
   "id": "36a86f09",
   "metadata": {},
   "outputs": [],
   "source": [
    "# Q3: Pr(Outcome=1) por cuartiles de DiabetesPedigreeFunction\n",
    "q3 = (df.assign(dpf_q=pd.qcut(df[\"DiabetesPedigreeFunction\"], q=4, duplicates=\"drop\"))\n",
    "        .groupby(\"dpf_q\")[\"Outcome\"].mean()\n",
    "        .rename(\"Pr(Outcome=1)\")).to_frame()\n",
    "q3"
   ]
  },
  {
   "cell_type": "markdown",
   "id": "b003d179",
   "metadata": {},
   "source": [
    "## 6. Conclusiones (redacta aquí)\n",
    "- **Pregnancies:** tipo (discreta), rango, media vs mediana, dispersión; comenta si aumentos en `Pregnancies` elevan la proporción de `Outcome=1` (ver Q2).\n",
    "- **DiabetesPedigreeFunction:** tipo (continua), rango e IQR; relación con `Outcome` por cuartiles (ver Q3).\n",
    "- **Outcome:** proporción global de casos (media de Outcome)."
   ]
  },
  {
   "cell_type": "markdown",
   "id": "9c418c40",
   "metadata": {},
   "source": [
    "## 7. Exportar a PDF (como se pidió)\n",
    "En JupyterLab: **File → Print → Save as PDF**."
   ]
  }
 ],
 "metadata": {
  "kernelspec": {
   "display_name": "Python 3",
   "language": "python",
   "name": "python3"
  },
  "language_info": {
   "name": "python",
   "pygments_lexer": "ipython3"
  }
 },
 "nbformat": 4,
 "nbformat_minor": 5
}
