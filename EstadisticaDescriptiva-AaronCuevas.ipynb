{
 "cells": [
  {
   "cell_type": "markdown",
   "id": "cda5af5e-278b-413b-b015-eb7c0701a37a",
   "metadata": {},
   "source": [
    "# Estadística Descriptiva — Pima Indians Diabetes\n",
    "Autor: Aaron Cuevas — Fecha: 30 Oct  \n",
    "Dataset: `data/diabetes.csv`"
   ]
  },
  {
   "cell_type": "code",
   "execution_count": 5,
   "id": "d4d63e3e-0ce9-42ca-a7da-b186676c07c7",
   "metadata": {},
   "outputs": [
    {
     "name": "stdout",
     "output_type": "stream",
     "text": [
      "PY: /Users/star/.venvs/langevin/bin/python\n",
      "Requirement already satisfied: pip in /Users/star/.venvs/langevin/lib/python3.13/site-packages (25.2)\n",
      "Collecting pip\n",
      "  Using cached pip-25.3-py3-none-any.whl.metadata (4.7 kB)\n",
      "Using cached pip-25.3-py3-none-any.whl (1.8 MB)\n",
      "Installing collected packages: pip\n",
      "  Attempting uninstall: pip\n",
      "    Found existing installation: pip 25.2\n",
      "    Uninstalling pip-25.2:\n",
      "      Successfully uninstalled pip-25.2\n",
      "Successfully installed pip-25.3\n",
      "Collecting pandas\n",
      "  Using cached pandas-2.3.3-cp313-cp313-macosx_11_0_arm64.whl.metadata (91 kB)\n",
      "Requirement already satisfied: numpy in /Users/star/.venvs/langevin/lib/python3.13/site-packages (2.3.3)\n",
      "Requirement already satisfied: matplotlib in /Users/star/.venvs/langevin/lib/python3.13/site-packages (3.10.7)\n",
      "Requirement already satisfied: python-dateutil>=2.8.2 in /Users/star/.venvs/langevin/lib/python3.13/site-packages (from pandas) (2.9.0.post0)\n",
      "Collecting pytz>=2020.1 (from pandas)\n",
      "  Using cached pytz-2025.2-py2.py3-none-any.whl.metadata (22 kB)\n",
      "Collecting tzdata>=2022.7 (from pandas)\n",
      "  Using cached tzdata-2025.2-py2.py3-none-any.whl.metadata (1.4 kB)\n",
      "Requirement already satisfied: contourpy>=1.0.1 in /Users/star/.venvs/langevin/lib/python3.13/site-packages (from matplotlib) (1.3.3)\n",
      "Requirement already satisfied: cycler>=0.10 in /Users/star/.venvs/langevin/lib/python3.13/site-packages (from matplotlib) (0.12.1)\n",
      "Requirement already satisfied: fonttools>=4.22.0 in /Users/star/.venvs/langevin/lib/python3.13/site-packages (from matplotlib) (4.60.1)\n",
      "Requirement already satisfied: kiwisolver>=1.3.1 in /Users/star/.venvs/langevin/lib/python3.13/site-packages (from matplotlib) (1.4.9)\n",
      "Requirement already satisfied: packaging>=20.0 in /Users/star/.venvs/langevin/lib/python3.13/site-packages (from matplotlib) (25.0)\n",
      "Requirement already satisfied: pillow>=8 in /Users/star/.venvs/langevin/lib/python3.13/site-packages (from matplotlib) (11.3.0)\n",
      "Requirement already satisfied: pyparsing>=3 in /Users/star/.venvs/langevin/lib/python3.13/site-packages (from matplotlib) (3.2.5)\n",
      "Requirement already satisfied: six>=1.5 in /Users/star/.venvs/langevin/lib/python3.13/site-packages (from python-dateutil>=2.8.2->pandas) (1.17.0)\n",
      "Using cached pandas-2.3.3-cp313-cp313-macosx_11_0_arm64.whl (10.7 MB)\n",
      "Using cached pytz-2025.2-py2.py3-none-any.whl (509 kB)\n",
      "Using cached tzdata-2025.2-py2.py3-none-any.whl (347 kB)\n",
      "Installing collected packages: pytz, tzdata, pandas\n",
      "\u001b[2K   \u001b[90m━━━━━━━━━━━━━━━━━━━━━━━━━━━━━━━━━━━━━━━━\u001b[0m \u001b[32m3/3\u001b[0m [pandas]2m2/3\u001b[0m [pandas]\n",
      "\u001b[1A\u001b[2KSuccessfully installed pandas-2.3.3 pytz-2025.2 tzdata-2025.2\n"
     ]
    }
   ],
   "source": [
    "import sys\n",
    "print(\"PY:\", sys.executable)\n",
    "!{sys.executable} -m pip install -U pip\n",
    "!{sys.executable} -m pip install pandas numpy matplotlib"
   ]
  },
  {
   "cell_type": "code",
   "execution_count": 6,
   "id": "cb11ba5c-8e93-466a-9c39-021f00c75d1e",
   "metadata": {},
   "outputs": [
    {
     "name": "stdout",
     "output_type": "stream",
     "text": [
      "Requirement already satisfied: ipykernel in /Users/star/.venvs/langevin/lib/python3.13/site-packages (6.30.1)\n",
      "Requirement already satisfied: appnope>=0.1.2 in /Users/star/.venvs/langevin/lib/python3.13/site-packages (from ipykernel) (0.1.4)\n",
      "Requirement already satisfied: comm>=0.1.1 in /Users/star/.venvs/langevin/lib/python3.13/site-packages (from ipykernel) (0.2.3)\n",
      "Requirement already satisfied: debugpy>=1.6.5 in /Users/star/.venvs/langevin/lib/python3.13/site-packages (from ipykernel) (1.8.17)\n",
      "Requirement already satisfied: ipython>=7.23.1 in /Users/star/.venvs/langevin/lib/python3.13/site-packages (from ipykernel) (9.6.0)\n",
      "Requirement already satisfied: jupyter-client>=8.0.0 in /Users/star/.venvs/langevin/lib/python3.13/site-packages (from ipykernel) (8.6.3)\n",
      "Requirement already satisfied: jupyter-core!=5.0.*,>=4.12 in /Users/star/.venvs/langevin/lib/python3.13/site-packages (from ipykernel) (5.8.1)\n",
      "Requirement already satisfied: matplotlib-inline>=0.1 in /Users/star/.venvs/langevin/lib/python3.13/site-packages (from ipykernel) (0.1.7)\n",
      "Requirement already satisfied: nest-asyncio>=1.4 in /Users/star/.venvs/langevin/lib/python3.13/site-packages (from ipykernel) (1.6.0)\n",
      "Requirement already satisfied: packaging>=22 in /Users/star/.venvs/langevin/lib/python3.13/site-packages (from ipykernel) (25.0)\n",
      "Requirement already satisfied: psutil>=5.7 in /Users/star/.venvs/langevin/lib/python3.13/site-packages (from ipykernel) (7.1.0)\n",
      "Requirement already satisfied: pyzmq>=25 in /Users/star/.venvs/langevin/lib/python3.13/site-packages (from ipykernel) (27.1.0)\n",
      "Requirement already satisfied: tornado>=6.2 in /Users/star/.venvs/langevin/lib/python3.13/site-packages (from ipykernel) (6.5.2)\n",
      "Requirement already satisfied: traitlets>=5.4.0 in /Users/star/.venvs/langevin/lib/python3.13/site-packages (from ipykernel) (5.14.3)\n",
      "Requirement already satisfied: decorator in /Users/star/.venvs/langevin/lib/python3.13/site-packages (from ipython>=7.23.1->ipykernel) (5.2.1)\n",
      "Requirement already satisfied: ipython-pygments-lexers in /Users/star/.venvs/langevin/lib/python3.13/site-packages (from ipython>=7.23.1->ipykernel) (1.1.1)\n",
      "Requirement already satisfied: jedi>=0.16 in /Users/star/.venvs/langevin/lib/python3.13/site-packages (from ipython>=7.23.1->ipykernel) (0.19.2)\n",
      "Requirement already satisfied: pexpect>4.3 in /Users/star/.venvs/langevin/lib/python3.13/site-packages (from ipython>=7.23.1->ipykernel) (4.9.0)\n",
      "Requirement already satisfied: prompt_toolkit<3.1.0,>=3.0.41 in /Users/star/.venvs/langevin/lib/python3.13/site-packages (from ipython>=7.23.1->ipykernel) (3.0.52)\n",
      "Requirement already satisfied: pygments>=2.4.0 in /Users/star/.venvs/langevin/lib/python3.13/site-packages (from ipython>=7.23.1->ipykernel) (2.19.2)\n",
      "Requirement already satisfied: stack_data in /Users/star/.venvs/langevin/lib/python3.13/site-packages (from ipython>=7.23.1->ipykernel) (0.6.3)\n",
      "Requirement already satisfied: wcwidth in /Users/star/.venvs/langevin/lib/python3.13/site-packages (from prompt_toolkit<3.1.0,>=3.0.41->ipython>=7.23.1->ipykernel) (0.2.14)\n",
      "Requirement already satisfied: parso<0.9.0,>=0.8.4 in /Users/star/.venvs/langevin/lib/python3.13/site-packages (from jedi>=0.16->ipython>=7.23.1->ipykernel) (0.8.5)\n",
      "Requirement already satisfied: python-dateutil>=2.8.2 in /Users/star/.venvs/langevin/lib/python3.13/site-packages (from jupyter-client>=8.0.0->ipykernel) (2.9.0.post0)\n",
      "Requirement already satisfied: platformdirs>=2.5 in /Users/star/.venvs/langevin/lib/python3.13/site-packages (from jupyter-core!=5.0.*,>=4.12->ipykernel) (4.5.0)\n",
      "Requirement already satisfied: ptyprocess>=0.5 in /Users/star/.venvs/langevin/lib/python3.13/site-packages (from pexpect>4.3->ipython>=7.23.1->ipykernel) (0.7.0)\n",
      "Requirement already satisfied: six>=1.5 in /Users/star/.venvs/langevin/lib/python3.13/site-packages (from python-dateutil>=2.8.2->jupyter-client>=8.0.0->ipykernel) (1.17.0)\n",
      "Requirement already satisfied: executing>=1.2.0 in /Users/star/.venvs/langevin/lib/python3.13/site-packages (from stack_data->ipython>=7.23.1->ipykernel) (2.2.1)\n",
      "Requirement already satisfied: asttokens>=2.1.0 in /Users/star/.venvs/langevin/lib/python3.13/site-packages (from stack_data->ipython>=7.23.1->ipykernel) (3.0.0)\n",
      "Requirement already satisfied: pure-eval in /Users/star/.venvs/langevin/lib/python3.13/site-packages (from stack_data->ipython>=7.23.1->ipykernel) (0.2.3)\n",
      "Installed kernelspec analitica-venv in /Users/star/Library/Jupyter/kernels/analitica-venv\n"
     ]
    }
   ],
   "source": [
    "import sys, subprocess\n",
    "!{sys.executable} -m pip install ipykernel\n",
    "!{sys.executable} -m ipykernel install --user --name \"analitica-venv\" --display-name \"Python (analitica-venv)\""
   ]
  },
  {
   "cell_type": "code",
   "execution_count": 7,
   "id": "8a3af0ab-0055-406b-9c57-d589eaf255af",
   "metadata": {},
   "outputs": [],
   "source": [
    "import pandas as pd, numpy as np\n",
    "import matplotlib.pyplot as plt\n",
    "pd.set_option(\"display.max_columns\", None)"
   ]
  },
  {
   "cell_type": "code",
   "execution_count": 8,
   "id": "c447efa5-17de-4b0b-8f7a-6566da994ff9",
   "metadata": {},
   "outputs": [
    {
     "data": {
      "text/html": [
       "<div>\n",
       "<style scoped>\n",
       "    .dataframe tbody tr th:only-of-type {\n",
       "        vertical-align: middle;\n",
       "    }\n",
       "\n",
       "    .dataframe tbody tr th {\n",
       "        vertical-align: top;\n",
       "    }\n",
       "\n",
       "    .dataframe thead th {\n",
       "        text-align: right;\n",
       "    }\n",
       "</style>\n",
       "<table border=\"1\" class=\"dataframe\">\n",
       "  <thead>\n",
       "    <tr style=\"text-align: right;\">\n",
       "      <th></th>\n",
       "      <th>Pregnancies</th>\n",
       "      <th>Glucose</th>\n",
       "      <th>BloodPressure</th>\n",
       "      <th>SkinThickness</th>\n",
       "      <th>Insulin</th>\n",
       "      <th>BMI</th>\n",
       "      <th>DiabetesPedigreeFunction</th>\n",
       "      <th>Age</th>\n",
       "      <th>Outcome</th>\n",
       "    </tr>\n",
       "  </thead>\n",
       "  <tbody>\n",
       "    <tr>\n",
       "      <th>0</th>\n",
       "      <td>6</td>\n",
       "      <td>148</td>\n",
       "      <td>72</td>\n",
       "      <td>35</td>\n",
       "      <td>0</td>\n",
       "      <td>33.6</td>\n",
       "      <td>0.627</td>\n",
       "      <td>50</td>\n",
       "      <td>1</td>\n",
       "    </tr>\n",
       "    <tr>\n",
       "      <th>1</th>\n",
       "      <td>1</td>\n",
       "      <td>85</td>\n",
       "      <td>66</td>\n",
       "      <td>29</td>\n",
       "      <td>0</td>\n",
       "      <td>26.6</td>\n",
       "      <td>0.351</td>\n",
       "      <td>31</td>\n",
       "      <td>0</td>\n",
       "    </tr>\n",
       "    <tr>\n",
       "      <th>2</th>\n",
       "      <td>8</td>\n",
       "      <td>183</td>\n",
       "      <td>64</td>\n",
       "      <td>0</td>\n",
       "      <td>0</td>\n",
       "      <td>23.3</td>\n",
       "      <td>0.672</td>\n",
       "      <td>32</td>\n",
       "      <td>1</td>\n",
       "    </tr>\n",
       "    <tr>\n",
       "      <th>3</th>\n",
       "      <td>1</td>\n",
       "      <td>89</td>\n",
       "      <td>66</td>\n",
       "      <td>23</td>\n",
       "      <td>94</td>\n",
       "      <td>28.1</td>\n",
       "      <td>0.167</td>\n",
       "      <td>21</td>\n",
       "      <td>0</td>\n",
       "    </tr>\n",
       "    <tr>\n",
       "      <th>4</th>\n",
       "      <td>0</td>\n",
       "      <td>137</td>\n",
       "      <td>40</td>\n",
       "      <td>35</td>\n",
       "      <td>168</td>\n",
       "      <td>43.1</td>\n",
       "      <td>2.288</td>\n",
       "      <td>33</td>\n",
       "      <td>1</td>\n",
       "    </tr>\n",
       "  </tbody>\n",
       "</table>\n",
       "</div>"
      ],
      "text/plain": [
       "   Pregnancies  Glucose  BloodPressure  SkinThickness  Insulin   BMI  \\\n",
       "0            6      148             72             35        0  33.6   \n",
       "1            1       85             66             29        0  26.6   \n",
       "2            8      183             64              0        0  23.3   \n",
       "3            1       89             66             23       94  28.1   \n",
       "4            0      137             40             35      168  43.1   \n",
       "\n",
       "   DiabetesPedigreeFunction  Age  Outcome  \n",
       "0                     0.627   50        1  \n",
       "1                     0.351   31        0  \n",
       "2                     0.672   32        1  \n",
       "3                     0.167   21        0  \n",
       "4                     2.288   33        1  "
      ]
     },
     "execution_count": 8,
     "metadata": {},
     "output_type": "execute_result"
    }
   ],
   "source": [
    "from pathlib import Path\n",
    "csv_path = Path(\"data/diabetes.csv\")\n",
    "assert csv_path.exists(), f\"No encuentro {csv_path.resolve()}. Copia el CSV a data/.\"\n",
    "df = pd.read_csv(csv_path)\n",
    "df.head()"
   ]
  },
  {
   "cell_type": "code",
   "execution_count": 9,
   "id": "082190a3-4cd1-4d67-b15d-8e8daa1cd54e",
   "metadata": {},
   "outputs": [
    {
     "name": "stdout",
     "output_type": "stream",
     "text": [
      "Filas, Columnas: (768, 9)\n"
     ]
    },
    {
     "data": {
      "text/plain": [
       "['Pregnancies',\n",
       " 'Glucose',\n",
       " 'BloodPressure',\n",
       " 'SkinThickness',\n",
       " 'Insulin',\n",
       " 'BMI',\n",
       " 'DiabetesPedigreeFunction',\n",
       " 'Age',\n",
       " 'Outcome']"
      ]
     },
     "execution_count": 9,
     "metadata": {},
     "output_type": "execute_result"
    }
   ],
   "source": [
    "print(\"Filas, Columnas:\", df.shape)\n",
    "df.columns.tolist()"
   ]
  },
  {
   "cell_type": "code",
   "execution_count": 10,
   "id": "44c42edb-7001-4ac6-a402-ae21d82874d5",
   "metadata": {},
   "outputs": [
    {
     "name": "stdout",
     "output_type": "stream",
     "text": [
      "<class 'pandas.core.frame.DataFrame'>\n",
      "RangeIndex: 768 entries, 0 to 767\n",
      "Data columns (total 9 columns):\n",
      " #   Column                    Non-Null Count  Dtype  \n",
      "---  ------                    --------------  -----  \n",
      " 0   Pregnancies               768 non-null    int64  \n",
      " 1   Glucose                   768 non-null    int64  \n",
      " 2   BloodPressure             768 non-null    int64  \n",
      " 3   SkinThickness             768 non-null    int64  \n",
      " 4   Insulin                   768 non-null    int64  \n",
      " 5   BMI                       768 non-null    float64\n",
      " 6   DiabetesPedigreeFunction  768 non-null    float64\n",
      " 7   Age                       768 non-null    int64  \n",
      " 8   Outcome                   768 non-null    int64  \n",
      "dtypes: float64(2), int64(7)\n",
      "memory usage: 54.1 KB\n"
     ]
    },
    {
     "data": {
      "text/plain": [
       "Pregnancies                 0\n",
       "Glucose                     0\n",
       "BloodPressure               0\n",
       "SkinThickness               0\n",
       "Insulin                     0\n",
       "BMI                         0\n",
       "DiabetesPedigreeFunction    0\n",
       "Age                         0\n",
       "Outcome                     0\n",
       "dtype: int64"
      ]
     },
     "execution_count": 10,
     "metadata": {},
     "output_type": "execute_result"
    }
   ],
   "source": [
    "df.info()\n",
    "df.isna().sum()"
   ]
  },
  {
   "cell_type": "markdown",
   "id": "6dd1528a-9ec0-4625-a49c-1569fb2ccd27",
   "metadata": {},
   "source": [
    "## Notas de variables\n",
    "Todas las variables numéricas son cuantitativas (continuas o discretas por registro).\n",
    "`Outcome` es categórica binaria (0 = no diabetes, 1 = diabetes).\n",
    "En este dataset algunos ceros representan faltantes (Glucose, BloodPressure, SkinThickness, Insulin, BMI)."
   ]
  },
  {
   "cell_type": "code",
   "execution_count": null,
   "id": "3b677964-d606-455b-a8f1-2a78f168c7d1",
   "metadata": {},
   "outputs": [],
   "source": [
    "cols_zero_na = [\"Glucose\",\"BloodPressure\",\"SkinThickness\",\"Insulin\",\"BMI\"]\n",
    "df[cols_zero_na] = df[cols_zero_na].replace(0, np.nan)\n",
    "df.isna().sum()"
   ]
  },
  {
   "cell_type": "code",
   "execution_count": null,
   "id": "e9b439ef-b532-4c3a-9f9d-a5d9714d1dda",
   "metadata": {},
   "outputs": [],
   "source": [
    "vars_sel = [\"Glucose\",\"BMI\",\"Age\",\"Outcome\"]\n",
    "stats = df.agg({\n",
    "    \"Glucose\": [\"min\",\"max\",\"mean\",\"median\",\"std\"],\n",
    "    \"BMI\": [\"min\",\"max\",\"mean\",\"median\",\"std\"],\n",
    "    \"Age\": [\"min\",\"max\",\"mean\",\"median\",\"std\"],\n",
    "    \"Outcome\": [\"min\",\"max\",\"mean\"]\n",
    "})\n",
    "stats"
   ]
  },
  {
   "cell_type": "code",
   "execution_count": null,
   "id": "3681fcc9-a931-4e2e-bdca-bc5551c83fdf",
   "metadata": {},
   "outputs": [],
   "source": [
    "df[vars_sel].corr(numeric_only=True)"
   ]
  },
  {
   "cell_type": "code",
   "execution_count": null,
   "id": "fa62b7d8-59a3-4d8b-a495-0b4f97e1ede6",
   "metadata": {},
   "outputs": [],
   "source": [
    "for c in [\"Glucose\",\"BMI\",\"Age\"]:\n",
    "    df[c].dropna().plot(kind=\"hist\", bins=30, alpha=0.7)\n",
    "    plt.title(f\"Histograma de {c}\"); plt.xlabel(c); plt.ylabel(\"Frecuencia\")\n",
    "    plt.show()"
   ]
  },
  {
   "cell_type": "code",
   "execution_count": null,
   "id": "20408f52-5c86-4c88-ac34-6f8650c03d45",
   "metadata": {},
   "outputs": [],
   "source": [
    "A continuación, tres consultas que usan las variables asignadas y Outcome."
   ]
  },
  {
   "cell_type": "code",
   "execution_count": 12,
   "id": "902f3e3a-69d7-489d-b2a9-44b7b34e7cb5",
   "metadata": {},
   "outputs": [
    {
     "data": {
      "text/html": [
       "<div>\n",
       "<style scoped>\n",
       "    .dataframe tbody tr th:only-of-type {\n",
       "        vertical-align: middle;\n",
       "    }\n",
       "\n",
       "    .dataframe tbody tr th {\n",
       "        vertical-align: top;\n",
       "    }\n",
       "\n",
       "    .dataframe thead th {\n",
       "        text-align: right;\n",
       "    }\n",
       "</style>\n",
       "<table border=\"1\" class=\"dataframe\">\n",
       "  <thead>\n",
       "    <tr style=\"text-align: right;\">\n",
       "      <th></th>\n",
       "      <th>Age</th>\n",
       "      <th>Glucose</th>\n",
       "      <th>BMI</th>\n",
       "      <th>Outcome</th>\n",
       "    </tr>\n",
       "  </thead>\n",
       "  <tbody>\n",
       "    <tr>\n",
       "      <th>8</th>\n",
       "      <td>53</td>\n",
       "      <td>197</td>\n",
       "      <td>30.5</td>\n",
       "      <td>1</td>\n",
       "    </tr>\n",
       "    <tr>\n",
       "      <th>579</th>\n",
       "      <td>62</td>\n",
       "      <td>197</td>\n",
       "      <td>34.7</td>\n",
       "      <td>1</td>\n",
       "    </tr>\n",
       "    <tr>\n",
       "      <th>206</th>\n",
       "      <td>57</td>\n",
       "      <td>196</td>\n",
       "      <td>37.5</td>\n",
       "      <td>1</td>\n",
       "    </tr>\n",
       "    <tr>\n",
       "      <th>498</th>\n",
       "      <td>55</td>\n",
       "      <td>195</td>\n",
       "      <td>25.1</td>\n",
       "      <td>1</td>\n",
       "    </tr>\n",
       "    <tr>\n",
       "      <th>489</th>\n",
       "      <td>67</td>\n",
       "      <td>194</td>\n",
       "      <td>26.1</td>\n",
       "      <td>0</td>\n",
       "    </tr>\n",
       "    <tr>\n",
       "      <th>319</th>\n",
       "      <td>59</td>\n",
       "      <td>194</td>\n",
       "      <td>23.5</td>\n",
       "      <td>1</td>\n",
       "    </tr>\n",
       "    <tr>\n",
       "      <th>759</th>\n",
       "      <td>66</td>\n",
       "      <td>190</td>\n",
       "      <td>35.5</td>\n",
       "      <td>1</td>\n",
       "    </tr>\n",
       "    <tr>\n",
       "      <th>13</th>\n",
       "      <td>59</td>\n",
       "      <td>189</td>\n",
       "      <td>30.1</td>\n",
       "      <td>1</td>\n",
       "    </tr>\n",
       "    <tr>\n",
       "      <th>546</th>\n",
       "      <td>53</td>\n",
       "      <td>187</td>\n",
       "      <td>43.6</td>\n",
       "      <td>1</td>\n",
       "    </tr>\n",
       "    <tr>\n",
       "      <th>186</th>\n",
       "      <td>60</td>\n",
       "      <td>181</td>\n",
       "      <td>30.1</td>\n",
       "      <td>1</td>\n",
       "    </tr>\n",
       "  </tbody>\n",
       "</table>\n",
       "</div>"
      ],
      "text/plain": [
       "     Age  Glucose   BMI  Outcome\n",
       "8     53      197  30.5        1\n",
       "579   62      197  34.7        1\n",
       "206   57      196  37.5        1\n",
       "498   55      195  25.1        1\n",
       "489   67      194  26.1        0\n",
       "319   59      194  23.5        1\n",
       "759   66      190  35.5        1\n",
       "13    59      189  30.1        1\n",
       "546   53      187  43.6        1\n",
       "186   60      181  30.1        1"
      ]
     },
     "execution_count": 12,
     "metadata": {},
     "output_type": "execute_result"
    }
   ],
   "source": [
    "q1 = (df.query(\"Age >= 50 and Glucose >= 140\")\n",
    "        [[\"Age\",\"Glucose\",\"BMI\",\"Outcome\"]]\n",
    "        .sort_values(\"Glucose\", ascending=False))\n",
    "q1.head(10)"
   ]
  },
  {
   "cell_type": "code",
   "execution_count": 13,
   "id": "a025705f-8d6b-4a73-8489-32745372b7a7",
   "metadata": {},
   "outputs": [
    {
     "name": "stderr",
     "output_type": "stream",
     "text": [
      "/var/folders/kj/xgfkrngd0k1dqgkqnk1fgf7h0000gn/T/ipykernel_59303/1538696597.py:4: FutureWarning: The default of observed=False is deprecated and will be changed to True in a future version of pandas. Pass observed=False to retain current behavior or observed=True to adopt the future default and silence this warning.\n",
      "  .groupby(\"glu_bin\")[\"Outcome\"].mean()\n"
     ]
    },
    {
     "data": {
      "text/html": [
       "<div>\n",
       "<style scoped>\n",
       "    .dataframe tbody tr th:only-of-type {\n",
       "        vertical-align: middle;\n",
       "    }\n",
       "\n",
       "    .dataframe tbody tr th {\n",
       "        vertical-align: top;\n",
       "    }\n",
       "\n",
       "    .dataframe thead th {\n",
       "        text-align: right;\n",
       "    }\n",
       "</style>\n",
       "<table border=\"1\" class=\"dataframe\">\n",
       "  <thead>\n",
       "    <tr style=\"text-align: right;\">\n",
       "      <th></th>\n",
       "      <th>Pr(Outcome=1)</th>\n",
       "    </tr>\n",
       "    <tr>\n",
       "      <th>glu_bin</th>\n",
       "      <th></th>\n",
       "    </tr>\n",
       "  </thead>\n",
       "  <tbody>\n",
       "    <tr>\n",
       "      <th>normoglucemia</th>\n",
       "      <td>0.081218</td>\n",
       "    </tr>\n",
       "    <tr>\n",
       "      <th>prediabetes</th>\n",
       "      <td>0.277372</td>\n",
       "    </tr>\n",
       "    <tr>\n",
       "      <th>hiperglucemia</th>\n",
       "      <td>0.592593</td>\n",
       "    </tr>\n",
       "  </tbody>\n",
       "</table>\n",
       "</div>"
      ],
      "text/plain": [
       "               Pr(Outcome=1)\n",
       "glu_bin                     \n",
       "normoglucemia       0.081218\n",
       "prediabetes         0.277372\n",
       "hiperglucemia       0.592593"
      ]
     },
     "execution_count": 13,
     "metadata": {},
     "output_type": "execute_result"
    }
   ],
   "source": [
    "bins = [0, 99, 125, 500]\n",
    "labels = [\"normoglucemia\",\"prediabetes\",\"hiperglucemia\"]\n",
    "q2 = (df.assign(glu_bin=pd.cut(df[\"Glucose\"], bins=bins, labels=labels, include_lowest=True))\n",
    "        .groupby(\"glu_bin\")[\"Outcome\"].mean()\n",
    "        .rename(\"Pr(Outcome=1)\")).to_frame()\n",
    "q2"
   ]
  },
  {
   "cell_type": "code",
   "execution_count": 14,
   "id": "c555a259-2456-49b4-b16f-ebb73b8100bc",
   "metadata": {},
   "outputs": [
    {
     "name": "stderr",
     "output_type": "stream",
     "text": [
      "/var/folders/kj/xgfkrngd0k1dqgkqnk1fgf7h0000gn/T/ipykernel_59303/3323878127.py:4: FutureWarning: The default of observed=False is deprecated and will be changed to True in a future version of pandas. Pass observed=False to retain current behavior or observed=True to adopt the future default and silence this warning.\n",
      "  .groupby(\"bmi_cat\")[\"Outcome\"].agg([\"mean\",\"count\"]))\n"
     ]
    },
    {
     "data": {
      "text/html": [
       "<div>\n",
       "<style scoped>\n",
       "    .dataframe tbody tr th:only-of-type {\n",
       "        vertical-align: middle;\n",
       "    }\n",
       "\n",
       "    .dataframe tbody tr th {\n",
       "        vertical-align: top;\n",
       "    }\n",
       "\n",
       "    .dataframe thead th {\n",
       "        text-align: right;\n",
       "    }\n",
       "</style>\n",
       "<table border=\"1\" class=\"dataframe\">\n",
       "  <thead>\n",
       "    <tr style=\"text-align: right;\">\n",
       "      <th></th>\n",
       "      <th>mean</th>\n",
       "      <th>count</th>\n",
       "    </tr>\n",
       "    <tr>\n",
       "      <th>bmi_cat</th>\n",
       "      <th></th>\n",
       "      <th></th>\n",
       "    </tr>\n",
       "  </thead>\n",
       "  <tbody>\n",
       "    <tr>\n",
       "      <th>bajo_peso</th>\n",
       "      <td>0.133333</td>\n",
       "      <td>15</td>\n",
       "    </tr>\n",
       "    <tr>\n",
       "      <th>normal</th>\n",
       "      <td>0.064815</td>\n",
       "      <td>108</td>\n",
       "    </tr>\n",
       "    <tr>\n",
       "      <th>sobrepeso</th>\n",
       "      <td>0.244444</td>\n",
       "      <td>180</td>\n",
       "    </tr>\n",
       "    <tr>\n",
       "      <th>obesidad</th>\n",
       "      <td>0.462366</td>\n",
       "      <td>465</td>\n",
       "    </tr>\n",
       "  </tbody>\n",
       "</table>\n",
       "</div>"
      ],
      "text/plain": [
       "               mean  count\n",
       "bmi_cat                   \n",
       "bajo_peso  0.133333     15\n",
       "normal     0.064815    108\n",
       "sobrepeso  0.244444    180\n",
       "obesidad   0.462366    465"
      ]
     },
     "execution_count": 14,
     "metadata": {},
     "output_type": "execute_result"
    }
   ],
   "source": [
    "bmi_bins = [0, 18.5, 25, 30, 100]\n",
    "bmi_lbls = [\"bajo_peso\",\"normal\",\"sobrepeso\",\"obesidad\"]\n",
    "q3 = (df.assign(bmi_cat=pd.cut(df[\"BMI\"], bins=bmi_bins, labels=bmi_lbls, include_lowest=True))\n",
    "        .groupby(\"bmi_cat\")[\"Outcome\"].agg([\"mean\",\"count\"]))\n",
    "q3"
   ]
  },
  {
   "cell_type": "markdown",
   "id": "ed947909-c096-4be7-a29e-fa08d7340419",
   "metadata": {},
   "source": [
    "### Conclusiones\n",
    "- **Glucose** (cuantitativa continua): rango [min–max]; media vs mediana sugieren (simetría/cola derecha). Desviación estándar indica (dispersión baja/media/alta).\n",
    "- **BMI** (cuantitativa continua): rango [min–max]; distribución sesgada a la derecha; outliers posibles.\n",
    "- **Age** (cuantitativa discreta): rango [min–max]; puede agruparse por décadas.\n",
    "\n",
    "- **Outcome** (categórica binaria): proporción de 1 ≈ X% (ver stats).  \n",
    "  Se observa aumento de `Outcome=1` en categorías de glucosa más altas y en IMC elevado (ver Q2 y Q3).\n",
    "\n",
    "En síntesis: mayor glucosa y mayor IMC se asocian con mayor probabilidad de diabetes en esta muestra Pima."
   ]
  },
  {
   "cell_type": "markdown",
   "id": "a6fdce7f-fb33-4c8a-9856-1f0dd5612da6",
   "metadata": {},
   "source": []
  },
  {
   "cell_type": "code",
   "execution_count": null,
   "id": "1848f61f-caa6-4655-8037-b0ce07ac9651",
   "metadata": {},
   "outputs": [],
   "source": []
  }
 ],
 "metadata": {
  "kernelspec": {
   "display_name": "Langevin (py3.13)",
   "language": "python",
   "name": "langevin"
  },
  "language_info": {
   "codemirror_mode": {
    "name": "ipython",
    "version": 3
   },
   "file_extension": ".py",
   "mimetype": "text/x-python",
   "name": "python",
   "nbconvert_exporter": "python",
   "pygments_lexer": "ipython3",
   "version": "3.13.7"
  }
 },
 "nbformat": 4,
 "nbformat_minor": 5
}
